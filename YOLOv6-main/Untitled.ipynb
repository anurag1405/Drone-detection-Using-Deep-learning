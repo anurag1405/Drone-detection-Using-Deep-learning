{
 "cells": [
  {
   "cell_type": "code",
   "execution_count": 2,
   "id": "c29fc3c5",
   "metadata": {},
   "outputs": [
    {
     "name": "stdout",
     "output_type": "stream",
     "text": [
      "Retrieving notices: ...working... done\n",
      "Note: you may need to restart the kernel to use updated packages.\n",
      "\n",
      "Collecting package metadata (current_repodata.json): ...working... done\n",
      "Solving environment: ...working... done\n",
      "\n",
      "# All requested packages already installed.\n",
      "\n"
     ]
    }
   ],
   "source": [
    "conda install cython"
   ]
  },
  {
   "cell_type": "code",
   "execution_count": 3,
   "id": "f2a1457e",
   "metadata": {},
   "outputs": [
    {
     "name": "stdout",
     "output_type": "stream",
     "text": [
      "Requirement already satisfied: torch>=1.8.0 in c:\\users\\anura\\anaconda3\\lib\\site-packages (from -r requirements.txt (line 4)) (2.0.0)\n",
      "Requirement already satisfied: torchvision>=0.9.0 in c:\\users\\anura\\anaconda3\\lib\\site-packages (from -r requirements.txt (line 5)) (0.15.1)\n",
      "Collecting numpy>=1.24.0\n",
      "  Using cached numpy-1.24.3-cp39-cp39-win_amd64.whl (14.9 MB)\n",
      "Requirement already satisfied: opencv-python>=4.1.2 in c:\\users\\anura\\anaconda3\\lib\\site-packages (from -r requirements.txt (line 7)) (4.7.0.72)\n",
      "Requirement already satisfied: PyYAML>=5.3.1 in c:\\users\\anura\\anaconda3\\lib\\site-packages (from -r requirements.txt (line 8)) (6.0)\n",
      "Requirement already satisfied: scipy>=1.4.1 in c:\\users\\anura\\anaconda3\\lib\\site-packages (from -r requirements.txt (line 9)) (1.9.1)\n",
      "Requirement already satisfied: tqdm>=4.41.0 in c:\\users\\anura\\anaconda3\\lib\\site-packages (from -r requirements.txt (line 10)) (4.64.1)\n",
      "Collecting addict>=2.4.0\n",
      "  Using cached addict-2.4.0-py3-none-any.whl (3.8 kB)\n",
      "Requirement already satisfied: tensorboard>=2.7.0 in c:\\users\\anura\\anaconda3\\lib\\site-packages (from -r requirements.txt (line 12)) (2.12.2)\n",
      "Collecting pycocotools>=2.0\n",
      "  Using cached pycocotools-2.0.6.tar.gz (24 kB)\n",
      "  Installing build dependencies: started\n",
      "  Installing build dependencies: finished with status 'done'\n",
      "  Getting requirements to build wheel: started\n",
      "  Getting requirements to build wheel: finished with status 'done'\n",
      "  Preparing metadata (pyproject.toml): started\n",
      "  Preparing metadata (pyproject.toml): finished with status 'done'\n",
      "Collecting onnx>=1.10.0\n",
      "  Using cached onnx-1.14.0-cp39-cp39-win_amd64.whl (13.3 MB)\n",
      "Collecting onnx-simplifier>=0.3.6\n",
      "  Using cached onnx_simplifier-0.4.28-cp39-cp39-win_amd64.whl (1.2 MB)\n",
      "Requirement already satisfied: thop in c:\\users\\anura\\anaconda3\\lib\\site-packages (from -r requirements.txt (line 16)) (0.1.1.post2209072238)\n",
      "Requirement already satisfied: filelock in c:\\users\\anura\\anaconda3\\lib\\site-packages (from torch>=1.8.0->-r requirements.txt (line 4)) (3.6.0)\n",
      "Requirement already satisfied: sympy in c:\\users\\anura\\anaconda3\\lib\\site-packages (from torch>=1.8.0->-r requirements.txt (line 4)) (1.10.1)\n",
      "Requirement already satisfied: networkx in c:\\users\\anura\\anaconda3\\lib\\site-packages (from torch>=1.8.0->-r requirements.txt (line 4)) (2.8.4)\n",
      "Requirement already satisfied: typing-extensions in c:\\users\\anura\\anaconda3\\lib\\site-packages (from torch>=1.8.0->-r requirements.txt (line 4)) (4.3.0)\n",
      "Requirement already satisfied: jinja2 in c:\\users\\anura\\anaconda3\\lib\\site-packages (from torch>=1.8.0->-r requirements.txt (line 4)) (2.11.3)\n",
      "Requirement already satisfied: requests in c:\\users\\anura\\anaconda3\\lib\\site-packages (from torchvision>=0.9.0->-r requirements.txt (line 5)) (2.28.1)\n",
      "Requirement already satisfied: pillow!=8.3.*,>=5.3.0 in c:\\users\\anura\\anaconda3\\lib\\site-packages (from torchvision>=0.9.0->-r requirements.txt (line 5)) (9.2.0)\n",
      "Requirement already satisfied: colorama in c:\\users\\anura\\anaconda3\\lib\\site-packages (from tqdm>=4.41.0->-r requirements.txt (line 10)) (0.4.5)\n",
      "Requirement already satisfied: markdown>=2.6.8 in c:\\users\\anura\\anaconda3\\lib\\site-packages (from tensorboard>=2.7.0->-r requirements.txt (line 12)) (3.3.4)\n",
      "Requirement already satisfied: absl-py>=0.4 in c:\\users\\anura\\anaconda3\\lib\\site-packages (from tensorboard>=2.7.0->-r requirements.txt (line 12)) (1.4.0)\n",
      "Requirement already satisfied: tensorboard-plugin-wit>=1.6.0 in c:\\users\\anura\\anaconda3\\lib\\site-packages (from tensorboard>=2.7.0->-r requirements.txt (line 12)) (1.8.1)\n",
      "Requirement already satisfied: google-auth-oauthlib<1.1,>=0.5 in c:\\users\\anura\\anaconda3\\lib\\site-packages (from tensorboard>=2.7.0->-r requirements.txt (line 12)) (1.0.0)\n",
      "Requirement already satisfied: setuptools>=41.0.0 in c:\\users\\anura\\anaconda3\\lib\\site-packages (from tensorboard>=2.7.0->-r requirements.txt (line 12)) (67.6.1)\n",
      "Requirement already satisfied: tensorboard-data-server<0.8.0,>=0.7.0 in c:\\users\\anura\\anaconda3\\lib\\site-packages (from tensorboard>=2.7.0->-r requirements.txt (line 12)) (0.7.0)\n",
      "Requirement already satisfied: werkzeug>=1.0.1 in c:\\users\\anura\\anaconda3\\lib\\site-packages (from tensorboard>=2.7.0->-r requirements.txt (line 12)) (2.0.3)\n",
      "Requirement already satisfied: grpcio>=1.48.2 in c:\\users\\anura\\anaconda3\\lib\\site-packages (from tensorboard>=2.7.0->-r requirements.txt (line 12)) (1.53.0)\n",
      "Requirement already satisfied: wheel>=0.26 in c:\\users\\anura\\anaconda3\\lib\\site-packages (from tensorboard>=2.7.0->-r requirements.txt (line 12)) (0.37.1)\n",
      "Requirement already satisfied: protobuf>=3.19.6 in c:\\users\\anura\\anaconda3\\lib\\site-packages (from tensorboard>=2.7.0->-r requirements.txt (line 12)) (4.22.3)\n",
      "Requirement already satisfied: google-auth<3,>=1.6.3 in c:\\users\\anura\\anaconda3\\lib\\site-packages (from tensorboard>=2.7.0->-r requirements.txt (line 12)) (2.17.3)\n",
      "Requirement already satisfied: matplotlib>=2.1.0 in c:\\users\\anura\\anaconda3\\lib\\site-packages (from pycocotools>=2.0->-r requirements.txt (line 13)) (3.5.2)\n",
      "Collecting rich\n",
      "  Using cached rich-13.3.5-py3-none-any.whl (238 kB)\n",
      "Requirement already satisfied: six>=1.9.0 in c:\\users\\anura\\anaconda3\\lib\\site-packages (from google-auth<3,>=1.6.3->tensorboard>=2.7.0->-r requirements.txt (line 12)) (1.16.0)\n",
      "Requirement already satisfied: rsa<5,>=3.1.4 in c:\\users\\anura\\anaconda3\\lib\\site-packages (from google-auth<3,>=1.6.3->tensorboard>=2.7.0->-r requirements.txt (line 12)) (4.9)\n",
      "Requirement already satisfied: pyasn1-modules>=0.2.1 in c:\\users\\anura\\anaconda3\\lib\\site-packages (from google-auth<3,>=1.6.3->tensorboard>=2.7.0->-r requirements.txt (line 12)) (0.2.8)\n",
      "Requirement already satisfied: cachetools<6.0,>=2.0.0 in c:\\users\\anura\\anaconda3\\lib\\site-packages (from google-auth<3,>=1.6.3->tensorboard>=2.7.0->-r requirements.txt (line 12)) (5.3.0)\n",
      "Requirement already satisfied: requests-oauthlib>=0.7.0 in c:\\users\\anura\\anaconda3\\lib\\site-packages (from google-auth-oauthlib<1.1,>=0.5->tensorboard>=2.7.0->-r requirements.txt (line 12)) (1.3.1)\n",
      "Requirement already satisfied: cycler>=0.10 in c:\\users\\anura\\anaconda3\\lib\\site-packages (from matplotlib>=2.1.0->pycocotools>=2.0->-r requirements.txt (line 13)) (0.10.0)\n",
      "Requirement already satisfied: packaging>=20.0 in c:\\users\\anura\\anaconda3\\lib\\site-packages (from matplotlib>=2.1.0->pycocotools>=2.0->-r requirements.txt (line 13)) (21.3)\n",
      "Requirement already satisfied: fonttools>=4.22.0 in c:\\users\\anura\\anaconda3\\lib\\site-packages (from matplotlib>=2.1.0->pycocotools>=2.0->-r requirements.txt (line 13)) (4.25.0)\n",
      "Requirement already satisfied: python-dateutil>=2.7 in c:\\users\\anura\\anaconda3\\lib\\site-packages (from matplotlib>=2.1.0->pycocotools>=2.0->-r requirements.txt (line 13)) (2.8.2)\n",
      "Requirement already satisfied: pyparsing>=2.2.1 in c:\\users\\anura\\anaconda3\\lib\\site-packages (from matplotlib>=2.1.0->pycocotools>=2.0->-r requirements.txt (line 13)) (2.4.7)\n",
      "Requirement already satisfied: kiwisolver>=1.0.1 in c:\\users\\anura\\anaconda3\\lib\\site-packages (from matplotlib>=2.1.0->pycocotools>=2.0->-r requirements.txt (line 13)) (1.4.2)\n",
      "Requirement already satisfied: certifi>=2017.4.17 in c:\\users\\anura\\anaconda3\\lib\\site-packages (from requests->torchvision>=0.9.0->-r requirements.txt (line 5)) (2022.12.7)\n",
      "Requirement already satisfied: idna<4,>=2.5 in c:\\users\\anura\\anaconda3\\lib\\site-packages (from requests->torchvision>=0.9.0->-r requirements.txt (line 5)) (2.10)\n",
      "Requirement already satisfied: urllib3<1.27,>=1.21.1 in c:\\users\\anura\\anaconda3\\lib\\site-packages (from requests->torchvision>=0.9.0->-r requirements.txt (line 5)) (1.26.11)\n",
      "Requirement already satisfied: charset-normalizer<3,>=2 in c:\\users\\anura\\anaconda3\\lib\\site-packages (from requests->torchvision>=0.9.0->-r requirements.txt (line 5)) (2.0.4)\n",
      "Requirement already satisfied: MarkupSafe>=0.23 in c:\\users\\anura\\anaconda3\\lib\\site-packages (from jinja2->torch>=1.8.0->-r requirements.txt (line 4)) (2.0.1)\n",
      "Collecting markdown-it-py<3.0.0,>=2.2.0\n",
      "  Using cached markdown_it_py-2.2.0-py3-none-any.whl (84 kB)\n",
      "Collecting pygments<3.0.0,>=2.13.0\n",
      "  Using cached Pygments-2.15.1-py3-none-any.whl (1.1 MB)\n",
      "Requirement already satisfied: mpmath>=0.19 in c:\\users\\anura\\anaconda3\\lib\\site-packages (from sympy->torch>=1.8.0->-r requirements.txt (line 4)) (1.2.1)\n",
      "Collecting mdurl~=0.1\n",
      "  Using cached mdurl-0.1.2-py3-none-any.whl (10.0 kB)\n",
      "Requirement already satisfied: pyasn1<0.5.0,>=0.4.6 in c:\\users\\anura\\anaconda3\\lib\\site-packages (from pyasn1-modules>=0.2.1->google-auth<3,>=1.6.3->tensorboard>=2.7.0->-r requirements.txt (line 12)) (0.4.8)\n",
      "Requirement already satisfied: oauthlib>=3.0.0 in c:\\users\\anura\\anaconda3\\lib\\site-packages (from requests-oauthlib>=0.7.0->google-auth-oauthlib<1.1,>=0.5->tensorboard>=2.7.0->-r requirements.txt (line 12)) (3.2.2)\n",
      "Building wheels for collected packages: pycocotools\n",
      "  Building wheel for pycocotools (pyproject.toml): started\n",
      "  Building wheel for pycocotools (pyproject.toml): finished with status 'error'\n",
      "Failed to build pycocotools\n",
      "Note: you may need to restart the kernel to use updated packages.\n"
     ]
    },
    {
     "name": "stderr",
     "output_type": "stream",
     "text": [
      "  error: subprocess-exited-with-error\n",
      "  \n",
      "  Building wheel for pycocotools (pyproject.toml) did not run successfully.\n",
      "  exit code: 1\n",
      "  \n",
      "  [16 lines of output]\n",
      "  running bdist_wheel\n",
      "  running build\n",
      "  running build_py\n",
      "  creating build\n",
      "  creating build\\lib.win-amd64-cpython-39\n",
      "  creating build\\lib.win-amd64-cpython-39\\pycocotools\n",
      "  copying pycocotools\\coco.py -> build\\lib.win-amd64-cpython-39\\pycocotools\n",
      "  copying pycocotools\\cocoeval.py -> build\\lib.win-amd64-cpython-39\\pycocotools\n",
      "  copying pycocotools\\mask.py -> build\\lib.win-amd64-cpython-39\\pycocotools\n",
      "  copying pycocotools\\__init__.py -> build\\lib.win-amd64-cpython-39\\pycocotools\n",
      "  running build_ext\n",
      "  cythoning pycocotools/_mask.pyx to pycocotools\\_mask.c\n",
      "  C:\\Users\\anura\\AppData\\Local\\Temp\\pip-build-env-z95i_isx\\overlay\\Lib\\site-packages\\Cython\\Compiler\\Main.py:369: FutureWarning: Cython directive 'language_level' not set, using 2 for now (Py2). This will change in a later release! File: C:\\Users\\anura\\AppData\\Local\\Temp\\pip-install-k2u2pk7s\\pycocotools_2eb2860a7de24e41ae84aef646860a0e\\pycocotools\\_mask.pyx\n",
      "    tree = Parsing.p_module(s, pxd, full_module_name)\n",
      "  building 'pycocotools._mask' extension\n",
      "  error: Microsoft Visual C++ 14.0 or greater is required. Get it with \"Microsoft C++ Build Tools\": https://visualstudio.microsoft.com/visual-cpp-build-tools/\n",
      "  [end of output]\n",
      "  \n",
      "  note: This error originates from a subprocess, and is likely not a problem with pip.\n",
      "  ERROR: Failed building wheel for pycocotools\n",
      "ERROR: Could not build wheels for pycocotools, which is required to install pyproject.toml-based projects\n"
     ]
    }
   ],
   "source": [
    "pip install -r requirements.txt"
   ]
  },
  {
   "cell_type": "code",
   "execution_count": 4,
   "id": "bf4668bb",
   "metadata": {},
   "outputs": [
    {
     "name": "stdout",
     "output_type": "stream",
     "text": [
      "Note: you may need to restart the kernel to use updated packages.\n"
     ]
    },
    {
     "name": "stderr",
     "output_type": "stream",
     "text": [
      "ERROR: Could not find a version that satisfies the requirement pycocotools-windows (from versions: none)\n",
      "ERROR: No matching distribution found for pycocotools-windows\n"
     ]
    }
   ],
   "source": [
    "pip install pycocotools-windows"
   ]
  },
  {
   "cell_type": "code",
   "execution_count": 6,
   "id": "052190e9",
   "metadata": {},
   "outputs": [
    {
     "ename": "SyntaxError",
     "evalue": "invalid syntax (3632123849.py, line 1)",
     "output_type": "error",
     "traceback": [
      "\u001b[1;36m  File \u001b[1;32m\"C:\\Users\\anura\\AppData\\Local\\Temp\\ipykernel_11904\\3632123849.py\"\u001b[1;36m, line \u001b[1;32m1\u001b[0m\n\u001b[1;33m    sudo -apt install python3.x-dev\u001b[0m\n\u001b[1;37m              ^\u001b[0m\n\u001b[1;31mSyntaxError\u001b[0m\u001b[1;31m:\u001b[0m invalid syntax\n"
     ]
    }
   ],
   "source": []
  }
 ],
 "metadata": {
  "kernelspec": {
   "display_name": "Python 3 (ipykernel)",
   "language": "python",
   "name": "python3"
  },
  "language_info": {
   "codemirror_mode": {
    "name": "ipython",
    "version": 3
   },
   "file_extension": ".py",
   "mimetype": "text/x-python",
   "name": "python",
   "nbconvert_exporter": "python",
   "pygments_lexer": "ipython3",
   "version": "3.9.13"
  }
 },
 "nbformat": 4,
 "nbformat_minor": 5
}
